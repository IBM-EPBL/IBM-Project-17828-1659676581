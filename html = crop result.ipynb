{
  "nbformat": 4,
  "nbformat_minor": 0,
  "metadata": {
    "colab": {
      "provenance": []
    },
    "kernelspec": {
      "name": "python3",
      "display_name": "Python 3"
    },
    "language_info": {
      "name": "python"
    }
  },
  "cells": [
    {
      "cell_type": "code",
      "source": [
        "{% extends 'layout.html' %} {% block body %}\n",
        "\n",
        "<style>\n",
        "  .mt-0 {\n",
        "  margin-top: 50 !important;\n",
        "}\n",
        "</style>\n",
        "\n",
        "\n",
        "<div class=\"container py-2 mx-auto my-50 h-10 \" style=\"margin: 12rem;\">\n",
        "  <div class=\"row\">\n",
        "      <div class=\"col-sm py-2 py-md-3\">\n",
        "          <div class=\"card card-body\" style=\"justify-content: center;\">\n",
        "               <h1 class=\"text-center\"><b>You should grow <i>{{ prediction }} </i>in your farm</b></h1>\n",
        "          </div>\n",
        "      </div>\n",
        "  </div>\n",
        "</div>\n",
        "{% endblock %}"
      ],
      "metadata": {
        "id": "23Yst5q1PjMo"
      },
      "execution_count": null,
      "outputs": []
    }
  ]
}