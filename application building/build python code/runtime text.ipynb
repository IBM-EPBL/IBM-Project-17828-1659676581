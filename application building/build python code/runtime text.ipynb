{
  "nbformat": 4,
  "nbformat_minor": 0,
  "metadata": {
    "colab": {
      "provenance": []
    },
    "kernelspec": {
      "name": "python3",
      "display_name": "Python 3"
    },
    "language_info": {
      "name": "python"
    }
  },
  "cells": [
    {
      "cell_type": "code",
      "source": [
        "python-3.6.12"
      ],
      "metadata": {
        "id": "MSY0c4aXOwV8"
      },
      "execution_count": null,
      "outputs": []
    }
  ]
}